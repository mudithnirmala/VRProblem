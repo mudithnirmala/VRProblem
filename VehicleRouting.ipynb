{
  "nbformat": 4,
  "nbformat_minor": 0,
  "metadata": {
    "colab": {
      "name": "VehicleRouting.ipynb",
      "provenance": []
    },
    "kernelspec": {
      "name": "python3",
      "display_name": "Python 3"
    },
    "language_info": {
      "name": "python"
    }
  },
  "cells": [
    {
      "cell_type": "code",
      "source": [
        "!git clone https://github.com/mudithnirmala/VRProblem.git\n",
        "!git remote add origin https://github.com/mudithnirmala/VRProblem.git\n",
        "!echo \"# VRProblem\" >> README.md\n",
        "!git init\n",
        "!git add README.md\n",
        "!git commit -m \"first commit\"\n",
        "!git branch -M main\n",
        "!git remote add origin https://github.com/mudithnirmala/VRProblem.git\n",
        "!git push -u origin main"
      ],
      "metadata": {
        "colab": {
          "base_uri": "https://localhost:8080/"
        },
        "id": "8Ea2cbl4zIpg",
        "outputId": "f5524ece-01c5-4255-a6fc-36ada22a26ae"
      },
      "execution_count": 16,
      "outputs": [
        {
          "output_type": "stream",
          "name": "stdout",
          "text": [
            "fatal: destination path 'VRProblem' already exists and is not an empty directory.\n",
            "fatal: not a git repository (or any of the parent directories): .git\n",
            "Initialized empty Git repository in /content/.git/\n",
            "\n",
            "*** Please tell me who you are.\n",
            "\n",
            "Run\n",
            "\n",
            "  git config --global user.email \"you@example.com\"\n",
            "  git config --global user.name \"Your Name\"\n",
            "\n",
            "to set your account's default identity.\n",
            "Omit --global to set the identity only in this repository.\n",
            "\n",
            "fatal: unable to auto-detect email address (got 'root@9bb092f7591b.(none)')\n",
            "error: refname refs/heads/master not found\n",
            "fatal: Branch rename failed\n",
            "error: src refspec main does not match any.\n",
            "error: failed to push some refs to 'https://github.com/mudithnirmala/VRProblem.git'\n"
          ]
        }
      ]
    },
    {
      "cell_type": "code",
      "execution_count": 11,
      "metadata": {
        "colab": {
          "base_uri": "https://localhost:8080/"
        },
        "id": "_safW-7rpERr",
        "outputId": "7b604932-b14e-4118-b2a4-cec0c90a266d"
      },
      "outputs": [
        {
          "output_type": "stream",
          "name": "stdout",
          "text": [
            "Requirement already satisfied: vrPy in /usr/local/lib/python3.7/dist-packages (0.5.1)\n",
            "Requirement already satisfied: pulp in /usr/local/lib/python3.7/dist-packages (from vrPy) (2.6.0)\n",
            "Requirement already satisfied: networkx in /usr/local/lib/python3.7/dist-packages (from vrPy) (2.6.3)\n",
            "Requirement already satisfied: cspy in /usr/local/lib/python3.7/dist-packages (from vrPy) (1.0.1)\n",
            "Requirement already satisfied: numpy in /usr/local/lib/python3.7/dist-packages (from vrPy) (1.21.6)\n"
          ]
        }
      ],
      "source": [
        "!pip install vrPy"
      ]
    },
    {
      "cell_type": "code",
      "source": [
        "import networkx as nx\n",
        "from vrpy import VehicleRoutingProblem"
      ],
      "metadata": {
        "id": "902RJ4QyulS-"
      },
      "execution_count": 12,
      "outputs": []
    },
    {
      "cell_type": "code",
      "source": [
        "# Create graph\n",
        "G = nx.DiGraph()\n",
        "for v in [1, 2, 3, 4, 5]:\n",
        "        G.add_edge(\"Source\", v, cost=10, time=20)\n",
        "        G.add_edge(v, \"Sink\", cost=10, time=20)\n",
        "        G.nodes[v][\"demand\"] = 5\n",
        "        G.nodes[v][\"upper\"] = 100\n",
        "        G.nodes[v][\"lower\"] = 5\n",
        "        G.nodes[v][\"service_time\"] = 1\n",
        "G.nodes[2][\"upper\"] = 20\n",
        "G.nodes[\"Sink\"][\"upper\"] = 110\n",
        "G.nodes[\"Source\"][\"upper\"] = 100\n",
        "G.add_edge(1, 2, cost=10, time=20)\n",
        "G.add_edge(2, 3, cost=10, time=20)\n",
        "G.add_edge(3, 4, cost=15, time=20)\n",
        "G.add_edge(4, 5, cost=10, time=25)\n",
        "\n"
      ],
      "metadata": {
        "id": "hQJcm2xbpKJ7"
      },
      "execution_count": 13,
      "outputs": []
    },
    {
      "cell_type": "markdown",
      "source": [
        "\n",
        "```\n",
        "# classvrpy.vrp.VehicleRoutingProblem(G, num_stops=None, load_capacity=None, duration=None, time_windows=False, pickup_delivery=False, distribution_collection=False, drop_penalty=None, fixed_cost=0, num_vehicles=None, use_all_vehicles=False, periodic=None, mixed_fleet=False, minimize_global_span=False)\n",
        "```\n",
        "\n",
        "\n"
      ],
      "metadata": {
        "id": "Y8cBJmdsvlGp"
      }
    },
    {
      "cell_type": "code",
      "source": [
        "# Create vrp\n",
        "prob = VehicleRoutingProblem(G, num_stops=3, load_capacity=10, duration=64, time_windows=True)"
      ],
      "metadata": {
        "id": "ieJUrskTuraj"
      },
      "execution_count": 14,
      "outputs": []
    },
    {
      "cell_type": "code",
      "source": [
        "# Solve and display solution\n",
        "prob.solve()\n",
        "print(prob.best_routes)\n",
        "print(prob.best_value)"
      ],
      "metadata": {
        "colab": {
          "base_uri": "https://localhost:8080/"
        },
        "id": "ov_g_fDCpyYI",
        "outputId": "8fe9f7de-ab72-4c82-c943-b36e7dfe8fbe"
      },
      "execution_count": 15,
      "outputs": [
        {
          "output_type": "stream",
          "name": "stderr",
          "text": [
            "INFO:vrpy.vrp:new upper bound : max num stops = 3\n",
            "INFO:vrpy.vrp:iteration 0, 100.0\n",
            "INFO:vrpy.vrp:iteration 1, 90.0\n",
            "INFO:vrpy.vrp:iteration 2, 90.0\n",
            "INFO:vrpy.master_solve_pulp:total cost = 90.0\n"
          ]
        },
        {
          "output_type": "stream",
          "name": "stdout",
          "text": [
            "{1: ['Source', 1, 'Sink'], 2: ['Source', 4, 'Sink'], 3: ['Source', 5, 'Sink'], 4: ['Source', 2, 3, 'Sink']}\n",
            "90\n"
          ]
        }
      ]
    },
    {
      "cell_type": "code",
      "source": [
        ""
      ],
      "metadata": {
        "id": "v7fSpcpwzr8o"
      },
      "execution_count": null,
      "outputs": []
    }
  ]
}